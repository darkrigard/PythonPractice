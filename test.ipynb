{
 "cells": [
  {
   "cell_type": "code",
   "execution_count": 30,
   "metadata": {},
   "outputs": [
    {
     "name": "stdout",
     "output_type": "stream",
     "text": [
      "[1, 2]\n",
      "[3, ['a', 'b', 'c']]\n",
      "[1, 2, 3, ['a', 'b', 'c'], 12, 13, 14, 15]\n",
      "[1, 2, 3, ['a', 'b', 'c'], 1, 2, 3, ['a', 'b', 'c'], 1, 2, 3, ['a', 'b', 'c']]\n",
      "4\n",
      "[1, 6, 3, ['a', 'b', 'c']]\n",
      "[1, 6, 3]\n",
      "[1, 6, 3, ['a', 'b', 'c']]\n",
      "[1, 6, ['a', 'b', 'c']]\n",
      "[1, 6, ['a', 'b', 'c'], 5]\n",
      "1\n",
      "6\n",
      "[1, ['a', 'b', 'c'], 5, 1, 2, 3, 7, 8, 9]\n"
     ]
    }
   ],
   "source": [
    "a = [1,2,3, ['a', 'b','c']]\n",
    "\n",
    "print(a[0:2])\n",
    "\n",
    "print(a[2:])\n",
    "\n",
    "b = [12,13,14,15]\n",
    "\n",
    "print(a+b)\n",
    "\n",
    "print(a*3)\n",
    "\n",
    "print(len(a))\n",
    "\n",
    "a[1] = 6\n",
    "\n",
    "print(a)\n",
    "\n",
    "del(a[3:])\n",
    "\n",
    "print(a)\n",
    "\n",
    "a.append(['a','b','c'])\n",
    "\n",
    "print(a)\n",
    "\n",
    "a.remove(3)\n",
    "\n",
    "print(a)\n",
    "\n",
    "a.insert(3,5)\n",
    "\n",
    "print(a)\n",
    "\n",
    "print(a.count(5))\n",
    "\n",
    "print(a.pop(1))\n",
    "\n",
    "a.extend([1,2,3,7,8,9])\n",
    "\n",
    "print(a)\n",
    "\n"
   ]
  },
  {
   "cell_type": "code",
   "execution_count": 38,
   "metadata": {},
   "outputs": [
    {
     "name": "stdout",
     "output_type": "stream",
     "text": [
      "a\n",
      "(1,)\n",
      "(3, 4, 3, 4, 3, 4, 3, 4)\n"
     ]
    }
   ],
   "source": [
    "t1 = ()\n",
    "t2 = (1, )\n",
    "t3 = (1,2,3)\n",
    "t4 = 1,2,3\n",
    "t5 = ('a', 'b', ('ab', 'cd'))\n",
    "\n",
    "# print(del t3[0])\n",
    "\n",
    "# t2[0] = 'c'\n",
    "\n",
    "print(t5[0])\n",
    "\n",
    "print(t1 + t2)\n",
    "\n",
    "t2 = (3, 4)\n",
    "\n",
    "t3 = t2 * 4\n",
    "\n",
    "print(t3)\n",
    "\n",
    "\n"
   ]
  },
  {
   "cell_type": "code",
   "execution_count": 57,
   "metadata": {},
   "outputs": [
    {
     "name": "stdout",
     "output_type": "stream",
     "text": [
      "dict_keys(['name', 'phone', 'birth'])\n",
      "{1: 'a', 2: 'b'}\n",
      "{1: 'a', 2: 'b', 'name': 'pey'}\n",
      "{2: 'b', 'name': 'pey'}\n",
      "100\n",
      "10\n",
      "pey\n",
      "1118\n",
      "010-5038-9513\n",
      "dict_values(['pey', '010-5038-9513', '1118'])\n",
      "pey\n",
      "minji\n",
      "None\n"
     ]
    }
   ],
   "source": [
    "dic = {'name':'pey', 'phone':'010-5038-9513', 'birth':'1118'}\n",
    "\n",
    "print(dic.keys())\n",
    "\n",
    "a = {1:'a'}\n",
    "\n",
    "a[2] = 'b'\n",
    "\n",
    "print(a)\n",
    "\n",
    "a['name'] = 'pey'\n",
    "\n",
    "print(a)\n",
    "\n",
    "del a[1]\n",
    "\n",
    "print(a)\n",
    "\n",
    "grade = {'pey':10, 'minji':100}\n",
    "\n",
    "print(grade['minji'])\n",
    "\n",
    "print(grade['pey'])\n",
    "\n",
    "print(dic['name'])\n",
    "\n",
    "print(dic['birth'])\n",
    "\n",
    "print(dic['phone'])\n",
    "\n",
    "print(dic.values())\n",
    "\n",
    "print(dic.get('name'))\n",
    "\n",
    "print(dic.get('nokey','minji'))\n",
    "\n",
    "'name' in dic\n",
    "\n",
    "'minji' in dic\n",
    "\n",
    "print(dic.clear())\n",
    "\n"
   ]
  },
  {
   "cell_type": "code",
   "execution_count": 62,
   "metadata": {},
   "outputs": [
    {
     "name": "stdout",
     "output_type": "stream",
     "text": [
      "{1, 2, 3}\n",
      "{'H', 'e', 'l', 'o'}\n",
      "['H', 'e', 'l', 'o']\n",
      "H\n"
     ]
    }
   ],
   "source": [
    "s1 = set([1,2,3])\n",
    "\n",
    "s2 = set(\"Hello\")\n",
    "\n",
    "print(s1)\n",
    "\n",
    "print(s2)\n",
    "\n",
    "l1 = list(s2)\n",
    "\n",
    "print(l1)\n",
    "\n",
    "print(l1[0])\n",
    "\n",
    "\n",
    "\n"
   ]
  },
  {
   "cell_type": "code",
   "execution_count": 67,
   "metadata": {},
   "outputs": [
    {
     "name": "stdout",
     "output_type": "stream",
     "text": [
      "{1, 2, 3}\n",
      "{4, 5, 6}\n",
      "{1, 2, 3, 4, 5, 6, 7, 8, 9}\n",
      "{1, 2, 3, 4, 5, 6, 19}\n",
      "{1, 2, 3, 4, 5, 6, 15, 16, 17, 19}\n"
     ]
    }
   ],
   "source": [
    "s1 = set([1,2,3,4,5,6])\n",
    "\n",
    "s2 = set([4,5,6,7,8,9])\n",
    "\n",
    "print(s1 - s2)\n",
    "\n",
    "print(s1 & s2)\n",
    "\n",
    "print(s1 | s2)\n",
    "\n",
    "s1.add(19)\n",
    "\n",
    "print(s1)\n",
    "\n",
    "s1.update([15,16,17])\n",
    "\n",
    "print(s1)"
   ]
  },
  {
   "cell_type": "code",
   "execution_count": 1,
   "metadata": {},
   "outputs": [
    {
     "name": "stdout",
     "output_type": "stream",
     "text": [
      "택시를 타고가\n"
     ]
    }
   ],
   "source": [
    "money = True\n",
    "\n",
    "if money:\n",
    "    print(\"택시를 타고가\")\n",
    "else:\n",
    "    print(\"걸어가\")"
   ]
  },
  {
   "cell_type": "code",
   "execution_count": 2,
   "metadata": {},
   "outputs": [
    {
     "name": "stdout",
     "output_type": "stream",
     "text": [
      "걸어가라\n"
     ]
    }
   ],
   "source": [
    "money = 2000\n",
    "\n",
    "if money >= 3000:\n",
    "    print(\"택시 타고 가\")\n",
    "else:\n",
    "    print(\"걸어가라\")\n",
    "\n"
   ]
  },
  {
   "cell_type": "code",
   "execution_count": 5,
   "metadata": {},
   "outputs": [
    {
     "name": "stdout",
     "output_type": "stream",
     "text": [
      "택시 타고가\n"
     ]
    }
   ],
   "source": [
    "pocket = ['paper', 'cellphone', 'money']\n",
    "\n",
    "if 'card' not in pocket:\n",
    "    print(\"택시 타고가\")\n",
    "else:\n",
    "    print(\"걸어가\")"
   ]
  },
  {
   "cell_type": "code",
   "execution_count": 6,
   "metadata": {},
   "outputs": [
    {
     "name": "stdout",
     "output_type": "stream",
     "text": [
      "택시타\n"
     ]
    }
   ],
   "source": [
    "money = 2000\n",
    "card = True\n",
    "\n",
    "if money >=3000 or card:\n",
    "    print(\"택시타\")\n",
    "else:\n",
    "    print(\"걸어가\")"
   ]
  },
  {
   "cell_type": "code",
   "execution_count": 9,
   "metadata": {},
   "outputs": [
    {
     "name": "stdout",
     "output_type": "stream",
     "text": [
      "택시타\n"
     ]
    }
   ],
   "source": [
    "pocket = ['paper', 'handphone']\n",
    "card = True\n",
    "if 'money' in pocket:\n",
    "    print(\"택시를 타고가\")\n",
    "elif card:\n",
    "    print(\"택시타\")\n",
    "else:\n",
    "    print(\"걸어가\")\n",
    "\n"
   ]
  },
  {
   "cell_type": "code",
   "execution_count": null,
   "metadata": {},
   "outputs": [],
   "source": [
    "pocket = ['paper', 'money', 'cellphone']\n",
    "if 'money' in pocket: pass\n",
    "else: print(\"카드를 꺼내라\")"
   ]
  },
  {
   "cell_type": "code",
   "execution_count": null,
   "metadata": {},
   "outputs": [],
   "source": [
    "treeHit = 0\n",
    "while treeHit < 10:\n",
    "    treeHit = treeHit + 1\n",
    "    print(\"나무를 %d번 찍었습니다.\" %treeHit)\n",
    "    if treeHit == 10:\n",
    "        print(\"나무 넘어갑니다.\")\n"
   ]
  }
 ],
 "metadata": {
  "kernelspec": {
   "display_name": "Python 3",
   "language": "python",
   "name": "python3"
  },
  "language_info": {
   "codemirror_mode": {
    "name": "ipython",
    "version": 3
   },
   "file_extension": ".py",
   "mimetype": "text/x-python",
   "name": "python",
   "nbconvert_exporter": "python",
   "pygments_lexer": "ipython3",
   "version": "3.11.1"
  },
  "orig_nbformat": 4,
  "vscode": {
   "interpreter": {
    "hash": "5c7b89af1651d0b8571dde13640ecdccf7d5a6204171d6ab33e7c296e100e08a"
   }
  }
 },
 "nbformat": 4,
 "nbformat_minor": 2
}
